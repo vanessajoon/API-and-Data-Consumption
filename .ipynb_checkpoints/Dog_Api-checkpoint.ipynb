{
 "cells": [
  {
   "cell_type": "code",
   "execution_count": 1,
   "id": "9beb9df2-9a16-45d5-8cfb-74192363807d",
   "metadata": {},
   "outputs": [
    {
     "name": "stdout",
     "output_type": "stream",
     "text": [
      "Random Dog Image Url https://images.dog.ceo/breeds/terrier-fox/n02095314_3295.jpg\n"
     ]
    },
    {
     "data": {
      "text/html": [
       "<img src=\"https://images.dog.ceo/breeds/terrier-fox/n02095314_3295.jpg\"/>"
      ],
      "text/plain": [
       "<IPython.core.display.Image object>"
      ]
     },
     "metadata": {},
     "output_type": "display_data"
    }
   ],
   "source": [
    "\n",
    "from IPython.display import Image, display\n",
    "import requests\n",
    "\n",
    "\n",
    "response = requests.get('https://dog.ceo/api/breeds/image/random')\n",
    "\n",
    "if response.status_code == 200:\n",
    "    dog_data = response.json()\n",
    "    image_url = dog_data.get('message', None)\n",
    "    if image_url:\n",
    "        print('Random Dog Image Url', image_url)\n",
    "        #Display the image (works in jupyter notebook)\n",
    "        display(Image(url=image_url))\n",
    "    else:\n",
    "        print('Image Url not found in response')\n",
    "else:\n",
    "    print('Failed to retrieve dog image')\n",
    "    print(response.status_code)"
   ]
  },
  {
   "cell_type": "code",
   "execution_count": null,
   "id": "4e096d33-95b5-42f1-a235-44ef55e8f646",
   "metadata": {},
   "outputs": [],
   "source": []
  }
 ],
 "metadata": {
  "kernelspec": {
   "display_name": "Python 3 (ipykernel)",
   "language": "python",
   "name": "python3"
  },
  "language_info": {
   "codemirror_mode": {
    "name": "ipython",
    "version": 3
   },
   "file_extension": ".py",
   "mimetype": "text/x-python",
   "name": "python",
   "nbconvert_exporter": "python",
   "pygments_lexer": "ipython3",
   "version": "3.12.2"
  }
 },
 "nbformat": 4,
 "nbformat_minor": 5
}
